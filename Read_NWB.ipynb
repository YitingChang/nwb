{
 "cells": [
  {
   "cell_type": "code",
   "execution_count": null,
   "id": "4d0fc709",
   "metadata": {},
   "outputs": [],
   "source": [
    "import pandas as pd \n",
    "import matplotlib.pyplot as plt\n",
    "import numpy as np\n",
    "import os\n",
    "from pynwb import NWBHDF5IO\n"
   ]
  },
  {
   "cell_type": "code",
   "execution_count": null,
   "id": "cceffd04",
   "metadata": {},
   "outputs": [],
   "source": [
    "# Load NWB data\n",
    "nwb_path = r'E:\\Cross-Modal_Project\\NWB\\old\\CM_inh_NWB_240326'\n",
    "nwb_files = os.listdir(nwb_path)\n",
    "for fi in nwb_files:\n",
    "    # Open the file in read mode \"r\"\n",
    "    filepath = os.path.join(nwb_path, fi)\n",
    "    io = NWBHDF5IO(filepath, mode=\"r\")\n",
    "    nwbfile = io.read()\n",
    "    mouse_name = nwbfile.subject.subject_id\n",
    "    session_date = nwbfile.session_start_time\n"
   ]
  },
  {
   "cell_type": "code",
   "execution_count": null,
   "id": "5bd7ec7b",
   "metadata": {},
   "outputs": [],
   "source": [
    "nwbfile"
   ]
  },
  {
   "cell_type": "code",
   "execution_count": null,
   "id": "7aff721c",
   "metadata": {},
   "outputs": [],
   "source": []
  },
  {
   "cell_type": "code",
   "execution_count": null,
   "id": "5a5869e6",
   "metadata": {},
   "outputs": [],
   "source": []
  }
 ],
 "metadata": {
  "kernelspec": {
   "display_name": "Python [conda env:env_nwb]",
   "language": "python",
   "name": "conda-env-env_nwb-py"
  },
  "language_info": {
   "codemirror_mode": {
    "name": "ipython",
    "version": 3
   },
   "file_extension": ".py",
   "mimetype": "text/x-python",
   "name": "python",
   "nbconvert_exporter": "python",
   "pygments_lexer": "ipython3",
   "version": "3.8.18"
  }
 },
 "nbformat": 4,
 "nbformat_minor": 5
}
